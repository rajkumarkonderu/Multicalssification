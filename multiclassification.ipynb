{
 "cells": [
  {
   "cell_type": "code",
   "execution_count": 1,
   "id": "e125ca0f",
   "metadata": {},
   "outputs": [],
   "source": [
    "import pandas as pd\n",
    "import numpy as np"
   ]
  },
  {
   "cell_type": "code",
   "execution_count": 2,
   "id": "146a990c",
   "metadata": {},
   "outputs": [
    {
     "data": {
      "text/html": [
       "<div>\n",
       "<style scoped>\n",
       "    .dataframe tbody tr th:only-of-type {\n",
       "        vertical-align: middle;\n",
       "    }\n",
       "\n",
       "    .dataframe tbody tr th {\n",
       "        vertical-align: top;\n",
       "    }\n",
       "\n",
       "    .dataframe thead th {\n",
       "        text-align: right;\n",
       "    }\n",
       "</style>\n",
       "<table border=\"1\" class=\"dataframe\">\n",
       "  <thead>\n",
       "    <tr style=\"text-align: right;\">\n",
       "      <th></th>\n",
       "      <th>Owner Group</th>\n",
       "      <th>Notes</th>\n",
       "      <th>s1_etr</th>\n",
       "      <th>s1_etr_time</th>\n",
       "      <th>s1_svc_rstr</th>\n",
       "      <th>s1_no_prob</th>\n",
       "      <th>s1_hold</th>\n",
       "      <th>s1_cd</th>\n",
       "    </tr>\n",
       "  </thead>\n",
       "  <tbody>\n",
       "    <tr>\n",
       "      <th>0</th>\n",
       "      <td>Global Premium Desk</td>\n",
       "      <td>Dear Customer,\\n\\nPlease confirm the current l...</td>\n",
       "      <td>0.0</td>\n",
       "      <td>0</td>\n",
       "      <td>0</td>\n",
       "      <td>0</td>\n",
       "      <td>0.0</td>\n",
       "      <td>1.0</td>\n",
       "    </tr>\n",
       "    <tr>\n",
       "      <th>1</th>\n",
       "      <td>Global Premium Desk</td>\n",
       "      <td>Dear Customer,\\n\\nPlease check and confirm; be...</td>\n",
       "      <td>0.0</td>\n",
       "      <td>0</td>\n",
       "      <td>0</td>\n",
       "      <td>0</td>\n",
       "      <td>0.0</td>\n",
       "      <td>1.0</td>\n",
       "    </tr>\n",
       "    <tr>\n",
       "      <th>2</th>\n",
       "      <td>Global Premium Desk</td>\n",
       "      <td>Dear Customer, \\n\\nPlease check and confirm; b...</td>\n",
       "      <td>0.0</td>\n",
       "      <td>0</td>\n",
       "      <td>0</td>\n",
       "      <td>0</td>\n",
       "      <td>0.0</td>\n",
       "      <td>1.0</td>\n",
       "    </tr>\n",
       "    <tr>\n",
       "      <th>3</th>\n",
       "      <td>Global Premium Desk</td>\n",
       "      <td>Dear Customer, \\n\\nPlease check and confirm; b...</td>\n",
       "      <td>0.0</td>\n",
       "      <td>0</td>\n",
       "      <td>0</td>\n",
       "      <td>0</td>\n",
       "      <td>0.0</td>\n",
       "      <td>1.0</td>\n",
       "    </tr>\n",
       "    <tr>\n",
       "      <th>4</th>\n",
       "      <td>Premium SOC</td>\n",
       "      <td>Dear Harish,\\n\\nAs discussed over call, we are...</td>\n",
       "      <td>0.0</td>\n",
       "      <td>0</td>\n",
       "      <td>0</td>\n",
       "      <td>0</td>\n",
       "      <td>0.0</td>\n",
       "      <td>1.0</td>\n",
       "    </tr>\n",
       "  </tbody>\n",
       "</table>\n",
       "</div>"
      ],
      "text/plain": [
       "           Owner Group                                              Notes  \\\n",
       "0  Global Premium Desk  Dear Customer,\\n\\nPlease confirm the current l...   \n",
       "1  Global Premium Desk  Dear Customer,\\n\\nPlease check and confirm; be...   \n",
       "2  Global Premium Desk  Dear Customer, \\n\\nPlease check and confirm; b...   \n",
       "3  Global Premium Desk  Dear Customer, \\n\\nPlease check and confirm; b...   \n",
       "4          Premium SOC  Dear Harish,\\n\\nAs discussed over call, we are...   \n",
       "\n",
       "   s1_etr s1_etr_time  s1_svc_rstr  s1_no_prob  s1_hold  s1_cd  \n",
       "0     0.0           0            0           0      0.0    1.0  \n",
       "1     0.0           0            0           0      0.0    1.0  \n",
       "2     0.0           0            0           0      0.0    1.0  \n",
       "3     0.0           0            0           0      0.0    1.0  \n",
       "4     0.0           0            0           0      0.0    1.0  "
      ]
     },
     "execution_count": 2,
     "metadata": {},
     "output_type": "execute_result"
    }
   ],
   "source": [
    "df=pd.read_excel('Scored data_abridged_25 March.xlsx')\n",
    "df.head()\n"
   ]
  },
  {
   "cell_type": "code",
   "execution_count": 3,
   "id": "90fdacf6",
   "metadata": {},
   "outputs": [
    {
     "data": {
      "text/html": [
       "<div>\n",
       "<style scoped>\n",
       "    .dataframe tbody tr th:only-of-type {\n",
       "        vertical-align: middle;\n",
       "    }\n",
       "\n",
       "    .dataframe tbody tr th {\n",
       "        vertical-align: top;\n",
       "    }\n",
       "\n",
       "    .dataframe thead th {\n",
       "        text-align: right;\n",
       "    }\n",
       "</style>\n",
       "<table border=\"1\" class=\"dataframe\">\n",
       "  <thead>\n",
       "    <tr style=\"text-align: right;\">\n",
       "      <th></th>\n",
       "      <th>Owner Group</th>\n",
       "      <th>Notes</th>\n",
       "      <th>category_id</th>\n",
       "    </tr>\n",
       "  </thead>\n",
       "  <tbody>\n",
       "    <tr>\n",
       "      <th>0</th>\n",
       "      <td>Global Premium Desk</td>\n",
       "      <td>Dear Customer,\\n\\nPlease confirm the current l...</td>\n",
       "      <td>0</td>\n",
       "    </tr>\n",
       "    <tr>\n",
       "      <th>1</th>\n",
       "      <td>Global Premium Desk</td>\n",
       "      <td>Dear Customer,\\n\\nPlease check and confirm; be...</td>\n",
       "      <td>0</td>\n",
       "    </tr>\n",
       "    <tr>\n",
       "      <th>2</th>\n",
       "      <td>Global Premium Desk</td>\n",
       "      <td>Dear Customer, \\n\\nPlease check and confirm; b...</td>\n",
       "      <td>0</td>\n",
       "    </tr>\n",
       "    <tr>\n",
       "      <th>3</th>\n",
       "      <td>Global Premium Desk</td>\n",
       "      <td>Dear Customer, \\n\\nPlease check and confirm; b...</td>\n",
       "      <td>0</td>\n",
       "    </tr>\n",
       "    <tr>\n",
       "      <th>4</th>\n",
       "      <td>Premium SOC</td>\n",
       "      <td>Dear Harish,\\n\\nAs discussed over call, we are...</td>\n",
       "      <td>1</td>\n",
       "    </tr>\n",
       "  </tbody>\n",
       "</table>\n",
       "</div>"
      ],
      "text/plain": [
       "           Owner Group                                              Notes  \\\n",
       "0  Global Premium Desk  Dear Customer,\\n\\nPlease confirm the current l...   \n",
       "1  Global Premium Desk  Dear Customer,\\n\\nPlease check and confirm; be...   \n",
       "2  Global Premium Desk  Dear Customer, \\n\\nPlease check and confirm; b...   \n",
       "3  Global Premium Desk  Dear Customer, \\n\\nPlease check and confirm; b...   \n",
       "4          Premium SOC  Dear Harish,\\n\\nAs discussed over call, we are...   \n",
       "\n",
       "   category_id  \n",
       "0            0  \n",
       "1            0  \n",
       "2            0  \n",
       "3            0  \n",
       "4            1  "
      ]
     },
     "execution_count": 3,
     "metadata": {},
     "output_type": "execute_result"
    }
   ],
   "source": [
    "from io import StringIO\n",
    "col = ['Owner Group', 'Notes']\n",
    "df = df[col]\n",
    "df = df[pd.notnull(df['Notes'])]\n",
    "df.columns = ['Owner Group', 'Notes']\n",
    "df['category_id'] = df['Owner Group'].factorize()[0]\n",
    "category_id_df = df[['Owner Group', 'category_id']].drop_duplicates().sort_values('category_id')\n",
    "category_to_id = dict(category_id_df.values)\n",
    "id_to_category = dict(category_id_df[['category_id', 'Owner Group']].values)\n",
    "df.head()"
   ]
  },
  {
   "cell_type": "code",
   "execution_count": 4,
   "id": "f66a8d5a",
   "metadata": {},
   "outputs": [
    {
     "data": {
      "image/png": "[encoded data removed]",
      "text/plain": [
       "<Figure size 576x432 with 1 Axes>"
      ]
     },
     "metadata": {
      "needs_background": "light"
     },
     "output_type": "display_data"
    }
   ],
   "source": [
    "import matplotlib.pyplot as plt\n",
    "fig = plt.figure(figsize=(8,6))\n",
    "df.groupby('Owner Group').Notes.count().plot.bar(ylim=0)\n",
    "plt.show()"
   ]
  },
  {
   "cell_type": "code",
   "execution_count": 5,
   "id": "2a340759",
   "metadata": {},
   "outputs": [
    {
     "data": {
      "text/plain": [
       "(149, 367)"
      ]
     },
     "execution_count": 5,
     "metadata": {},
     "output_type": "execute_result"
    }
   ],
   "source": [
    "from sklearn.feature_extraction.text import TfidfVectorizer\n",
    "tfidf = TfidfVectorizer(sublinear_tf=True, min_df=5, norm='l2', encoding='latin-1', ngram_range=(1, 2), stop_words='english')\n",
    "features = tfidf.fit_transform(df.Notes).toarray()\n",
    "labels = df.category_id\n",
    "features.shape"
   ]
  },
  {
   "cell_type": "code",
   "execution_count": 6,
   "id": "c138e007",
   "metadata": {},
   "outputs": [
    {
     "name": "stdout",
     "output_type": "stream",
     "text": [
      "# 'BFSI_SOC':\n",
      "  . Most correlated unigrams:\n",
      ". interface\n",
      ". location\n",
      "  . Most correlated bigrams:\n",
      ". wan ip\n",
      ". kindly share\n",
      "# 'EV_SOC':\n",
      "  . Most correlated unigrams:\n",
      ". subject\n",
      ". basis\n",
      "  . Most correlated bigrams:\n",
      ". customer check\n",
      ". thanks regards\n",
      "# 'Global Premium Desk':\n",
      "  . Most correlated unigrams:\n",
      ". utilization\n",
      ". sites\n",
      "  . Most correlated bigrams:\n",
      ". sites observing\n",
      ". confirm sites\n",
      "# 'Montreal_SOC':\n",
      "  . Most correlated unigrams:\n",
      ". number\n",
      ". reach\n",
      "  . Most correlated bigrams:\n",
      ". check confirm\n",
      ". dear team\n",
      "# 'Premium SOC':\n",
      "  . Most correlated unigrams:\n",
      ". number\n",
      ". configuration\n",
      "  . Most correlated bigrams:\n",
      ". configuration issue\n",
      ". local customer\n",
      "# 'Service Provider_Premium':\n",
      "  . Most correlated unigrams:\n",
      ". mail\n",
      ". number\n",
      "  . Most correlated bigrams:\n",
      ". dear team\n",
      ". team update\n",
      "# 'Tx Premium Enterprise Support':\n",
      "  . Most correlated unigrams:\n",
      ". internal\n",
      ". shortly\n",
      "  . Most correlated bigrams:\n",
      ". internal team\n",
      ". team working\n"
     ]
    }
   ],
   "source": [
    "from sklearn.feature_selection import chi2\n",
    "import numpy as np\n",
    "N = 2\n",
    "for Owner_Group,category_id in sorted(category_to_id.items()):\n",
    "  features_chi2 = chi2(features, labels == category_id)\n",
    "  indices = np.argsort(features_chi2[0])\n",
    "  feature_names = np.array(tfidf.get_feature_names())[indices]\n",
    "  unigrams = [v for v in feature_names if len(v.split(' ')) == 1]\n",
    "  bigrams = [v for v in feature_names if len(v.split(' ')) == 2]\n",
    "  print(\"# '{}':\".format(Owner_Group))\n",
    "  print(\"  . Most correlated unigrams:\\n. {}\".format('\\n. '.join(unigrams[-N:])))\n",
    "  print(\"  . Most correlated bigrams:\\n. {}\".format('\\n. '.join(bigrams[-N:])))"
   ]
  },
  {
   "cell_type": "code",
   "execution_count": 7,
   "id": "3dacdb25",
   "metadata": {},
   "outputs": [],
   "source": [
    "from sklearn.model_selection import train_test_split\n",
    "from sklearn.feature_extraction.text import CountVectorizer\n",
    "from sklearn.feature_extraction.text import TfidfTransformer\n",
    "from sklearn.naive_bayes import MultinomialNB\n",
    "X_train, X_test, y_train, y_test = train_test_split(df['Notes'], df['Owner Group'], random_state = 0)\n",
    "count_vect = CountVectorizer()\n",
    "X_train_counts = count_vect.fit_transform(X_train)\n",
    "tfidf_transformer = TfidfTransformer()\n",
    "X_train_tfidf = tfidf_transformer.fit_transform(X_train_counts)\n",
    "clf = MultinomialNB().fit(X_train_tfidf, y_train)"
   ]
  },
  {
   "cell_type": "code",
   "execution_count": 20,
   "id": "dd147d6c",
   "metadata": {},
   "outputs": [
    {
     "name": "stdout",
     "output_type": "stream",
     "text": [
      "['Global Premium Desk']\n"
     ]
    }
   ],
   "source": [
    "print(clf.predict(count_vect.transform([\"We will try again after 10 mins\"])))"
   ]
  },
  {
   "cell_type": "code",
   "execution_count": 9,
   "id": "ca47eca9",
   "metadata": {},
   "outputs": [
    {
     "name": "stderr",
     "output_type": "stream",
     "text": [
      "C:\\ProgramData\\Anaconda3\\lib\\site-packages\\sklearn\\model_selection\\_split.py:666: UserWarning: The least populated class in y has only 3 members, which is less than n_splits=5.\n",
      "  warnings.warn((\"The least populated class in y has only %d\"\n",
      "C:\\ProgramData\\Anaconda3\\lib\\site-packages\\sklearn\\model_selection\\_split.py:666: UserWarning: The least populated class in y has only 3 members, which is less than n_splits=5.\n",
      "  warnings.warn((\"The least populated class in y has only %d\"\n",
      "C:\\ProgramData\\Anaconda3\\lib\\site-packages\\sklearn\\model_selection\\_split.py:666: UserWarning: The least populated class in y has only 3 members, which is less than n_splits=5.\n",
      "  warnings.warn((\"The least populated class in y has only %d\"\n",
      "C:\\ProgramData\\Anaconda3\\lib\\site-packages\\sklearn\\model_selection\\_split.py:666: UserWarning: The least populated class in y has only 3 members, which is less than n_splits=5.\n",
      "  warnings.warn((\"The least populated class in y has only %d\"\n"
     ]
    },
    {
     "data": {
      "image/png": "[encoded data removed]",
      "text/plain": [
       "<Figure size 432x288 with 1 Axes>"
      ]
     },
     "metadata": {
      "needs_background": "light"
     },
     "output_type": "display_data"
    }
   ],
   "source": [
    "from sklearn.linear_model import LogisticRegression\n",
    "from sklearn.ensemble import RandomForestClassifier\n",
    "from sklearn.svm import LinearSVC\n",
    "from sklearn.model_selection import cross_val_score\n",
    "models = [\n",
    "    RandomForestClassifier(n_estimators=200, max_depth=3, random_state=0),\n",
    "    LinearSVC(),\n",
    "    MultinomialNB(),\n",
    "    LogisticRegression(random_state=0),\n",
    "]\n",
    "CV = 5\n",
    "cv_df = pd.DataFrame(index=range(CV * len(models)))\n",
    "entries = []\n",
    "for model in models:\n",
    "  model_name = model.__class__.__name__\n",
    "  accuracies = cross_val_score(model, features, labels, scoring='accuracy', cv=CV)\n",
    "  for fold_idx, accuracy in enumerate(accuracies):\n",
    "    entries.append((model_name, fold_idx, accuracy))\n",
    "cv_df = pd.DataFrame(entries, columns=['model_name', 'fold_idx', 'accuracy'])\n",
    "import seaborn as sns\n",
    "sns.boxplot(x='model_name', y='accuracy', data=cv_df)\n",
    "sns.stripplot(x='model_name', y='accuracy', data=cv_df, \n",
    "              size=8, jitter=True, edgecolor=\"gray\", linewidth=2)\n",
    "plt.show()"
   ]
  },
  {
   "cell_type": "code",
   "execution_count": 10,
   "id": "a32b01c6",
   "metadata": {},
   "outputs": [
    {
     "data": {
      "text/plain": [
       "model_name\n",
       "LinearSVC                 0.690805\n",
       "LogisticRegression        0.543448\n",
       "MultinomialNB             0.543448\n",
       "RandomForestClassifier    0.496322\n",
       "Name: accuracy, dtype: float64"
      ]
     },
     "execution_count": 10,
     "metadata": {},
     "output_type": "execute_result"
    }
   ],
   "source": [
    "cv_df.groupby('model_name').accuracy.mean()"
   ]
  },
  {
   "cell_type": "code",
   "execution_count": 11,
   "id": "4deb2da7",
   "metadata": {},
   "outputs": [
    {
     "name": "stdout",
     "output_type": "stream",
     "text": [
      "[[ 5  0  6  0  0  1  0]\n",
      " [ 2  5  0  0  0  0  0]\n",
      " [ 4  0 15  0  1  0  0]\n",
      " [ 1  1  1  1  0  0  0]\n",
      " [ 0  0  1  0  3  0  0]\n",
      " [ 0  0  0  0  0  1  0]\n",
      " [ 0  0  1  0  0  0  1]]\n"
     ]
    }
   ],
   "source": [
    "model = LinearSVC()\n",
    "X_train, X_test, y_train, y_test, indices_train, indices_test = train_test_split(features, labels, df.index, test_size=0.33, random_state=0)\n",
    "model.fit(X_train, y_train)\n",
    "y_pred = model.predict(X_test)\n",
    "from sklearn.metrics import confusion_matrix\n",
    "conf_mat = confusion_matrix(y_test, y_pred)\n",
    "print(conf_mat)"
   ]
  },
  {
   "cell_type": "code",
   "execution_count": 12,
   "id": "ccf9e01d",
   "metadata": {},
   "outputs": [
    {
     "data": {
      "image/png": "[encoded data removed]",
      "text/plain": [
       "<Figure size 576x432 with 2 Axes>"
      ]
     },
     "metadata": {
      "needs_background": "light"
     },
     "output_type": "display_data"
    }
   ],
   "source": [
    "fig, ax = plt.subplots(figsize=(8,6))\n",
    "sns.heatmap(conf_mat, annot=True, fmt='d',\n",
    "            xticklabels=category_id_df['Owner Group'].values, yticklabels=category_id_df['Owner Group'].values)\n",
    "plt.ylabel('Actual')\n",
    "plt.xlabel('Predicted')\n",
    "plt.show()"
   ]
  },
  {
   "cell_type": "code",
   "execution_count": 13,
   "id": "bd24064a",
   "metadata": {},
   "outputs": [
    {
     "name": "stdout",
     "output_type": "stream",
     "text": [
      "'Global Premium Desk' predicted as 'Service Provider_Premium' : 6 examples.\n"
     ]
    },
    {
     "data": {
      "text/html": [
       "<div>\n",
       "<style scoped>\n",
       "    .dataframe tbody tr th:only-of-type {\n",
       "        vertical-align: middle;\n",
       "    }\n",
       "\n",
       "    .dataframe tbody tr th {\n",
       "        vertical-align: top;\n",
       "    }\n",
       "\n",
       "    .dataframe thead th {\n",
       "        text-align: right;\n",
       "    }\n",
       "</style>\n",
       "<table border=\"1\" class=\"dataframe\">\n",
       "  <thead>\n",
       "    <tr style=\"text-align: right;\">\n",
       "      <th></th>\n",
       "      <th>Owner Group</th>\n",
       "      <th>Notes</th>\n",
       "    </tr>\n",
       "  </thead>\n",
       "  <tbody>\n",
       "    <tr>\n",
       "      <th>133</th>\n",
       "      <td>Global Premium Desk</td>\n",
       "      <td>Hi Team,\\nMeanwhile we are verifying media and...</td>\n",
       "    </tr>\n",
       "    <tr>\n",
       "      <th>84</th>\n",
       "      <td>Global Premium Desk</td>\n",
       "      <td>We are resolving this ticket and the link is u...</td>\n",
       "    </tr>\n",
       "    <tr>\n",
       "      <th>43</th>\n",
       "      <td>Global Premium Desk</td>\n",
       "      <td>\\n\\nCAUTION: This email originated from outsid...</td>\n",
       "    </tr>\n",
       "    <tr>\n",
       "      <th>134</th>\n",
       "      <td>Global Premium Desk</td>\n",
       "      <td>Hi Team,\\nRequest you to share source based fo...</td>\n",
       "    </tr>\n",
       "    <tr>\n",
       "      <th>51</th>\n",
       "      <td>Global Premium Desk</td>\n",
       "      <td>Dear Customer,\\n\\nWe are seeing intermittently...</td>\n",
       "    </tr>\n",
       "    <tr>\n",
       "      <th>146</th>\n",
       "      <td>Global Premium Desk</td>\n",
       "      <td>Hi Sunildutt,\\n\\nMain path is UP and stable.\\n...</td>\n",
       "    </tr>\n",
       "  </tbody>\n",
       "</table>\n",
       "</div>"
      ],
      "text/plain": [
       "             Owner Group                                              Notes\n",
       "133  Global Premium Desk  Hi Team,\\nMeanwhile we are verifying media and...\n",
       "84   Global Premium Desk  We are resolving this ticket and the link is u...\n",
       "43   Global Premium Desk  \\n\\nCAUTION: This email originated from outsid...\n",
       "134  Global Premium Desk  Hi Team,\\nRequest you to share source based fo...\n",
       "51   Global Premium Desk  Dear Customer,\\n\\nWe are seeing intermittently...\n",
       "146  Global Premium Desk  Hi Sunildutt,\\n\\nMain path is UP and stable.\\n..."
      ]
     },
     "metadata": {},
     "output_type": "display_data"
    },
    {
     "name": "stdout",
     "output_type": "stream",
     "text": [
      "\n"
     ]
    }
   ],
   "source": [
    "from IPython.display import display\n",
    "\n",
    "for predicted in category_id_df.category_id:\n",
    "  for actual in category_id_df.category_id:\n",
    "    if predicted != actual and conf_mat[actual, predicted] >= 6:\n",
    "      print(\"'{}' predicted as '{}' : {} examples.\".format(id_to_category[actual], id_to_category[predicted], conf_mat[actual, predicted]))\n",
    "      display(df.loc[indices_test[(y_test == actual) & (y_pred == predicted)]][['Owner Group', 'Notes']])\n",
    "      print('')"
   ]
  },
  {
   "cell_type": "code",
   "execution_count": 14,
   "id": "52697175",
   "metadata": {},
   "outputs": [
    {
     "data": {
      "text/plain": [
       "LinearSVC()"
      ]
     },
     "execution_count": 14,
     "metadata": {},
     "output_type": "execute_result"
    }
   ],
   "source": [
    "model.fit(features, labels)\n"
   ]
  },
  {
   "cell_type": "code",
   "execution_count": 15,
   "id": "e7077bee",
   "metadata": {},
   "outputs": [
    {
     "name": "stdout",
     "output_type": "stream",
     "text": [
      "# 'BFSI_SOC':\n",
      "  . Top unigrams:\n",
      "       . case\n",
      "       . interface\n",
      "  . Top bigrams:\n",
      "       . power status\n",
      "       . kindly share\n",
      "# 'EV_SOC':\n",
      "  . Top unigrams:\n",
      "       . subject\n",
      "       . observations\n",
      "  . Top bigrams:\n",
      "       . customer check\n",
      "       . thanks regards\n",
      "# 'Global Premium Desk':\n",
      "  . Top unigrams:\n",
      "       . time\n",
      "       . utilization\n",
      "  . Top bigrams:\n",
      "       . request share\n",
      "       . confirm current\n",
      "# 'Montreal_SOC':\n",
      "  . Top unigrams:\n",
      "       . reach\n",
      "       . number\n",
      "  . Top bigrams:\n",
      "       . keeping case\n",
      "       . current link\n",
      "# 'Premium SOC':\n",
      "  . Top unigrams:\n",
      "       . cable\n",
      "       . configuration\n",
      "  . Top bigrams:\n",
      "       . local customer\n",
      "       . configuration issue\n",
      "# 'Service Provider_Premium':\n",
      "  . Top unigrams:\n",
      "       . getting\n",
      "       . checked\n",
      "  . Top bigrams:\n",
      "       . end issue\n",
      "       . team update\n",
      "# 'Tx Premium Enterprise Support':\n",
      "  . Top unigrams:\n",
      "       . shortly\n",
      "       . internal\n",
      "  . Top bigrams:\n",
      "       . internal team\n",
      "       . team working\n"
     ]
    }
   ],
   "source": [
    "from sklearn.feature_selection import chi2\n",
    "\n",
    "N = 2\n",
    "for Product, category_id in sorted(category_to_id.items()):\n",
    "  indices = np.argsort(model.coef_[category_id])\n",
    "  feature_names = np.array(tfidf.get_feature_names())[indices]\n",
    "  unigrams = [v for v in reversed(feature_names) if len(v.split(' ')) == 1][:N]\n",
    "  bigrams = [v for v in reversed(feature_names) if len(v.split(' ')) == 2][:N]\n",
    "  print(\"# '{}':\".format(Product))\n",
    "  print(\"  . Top unigrams:\\n       . {}\".format('\\n       . '.join(unigrams)))\n",
    "  print(\"  . Top bigrams:\\n       . {}\".format('\\n       . '.join(bigrams)))"
   ]
  },
  {
   "cell_type": "code",
   "execution_count": 27,
   "id": "4d79a477",
   "metadata": {},
   "outputs": [
    {
     "name": "stdout",
     "output_type": "stream",
     "text": [
      "\"Dear Customer,Please confirm the current latency and optimal latency to be observed on circuit.\"\n",
      "  - Predicted as: 'Global Premium Desk'\n",
      "\n",
      "\"Dear customer,We are checking our media as per your request, will share our end observation in next 90 minutes.\"\n",
      "  - Predicted as: 'Global Premium Desk'\n",
      "\n",
      "\"Dear Customer,We are observing alarm is showing clean please check and confirm link status.\"\n",
      "  - Predicted as: 'Service Provider_Premium'\n",
      "\n",
      "\"I have no money to pay my tuition\"\n",
      "  - Predicted as: 'Service Provider_Premium'\n",
      "\n",
      "\"I requested a home loan modification through Bank of America. Bank of America never got back to me.\"\n",
      "  - Predicted as: 'Service Provider_Premium'\n",
      "\n",
      "\"It has been difficult for me to find my past due balance. I missed a regular monthly payment\"\n",
      "  - Predicted as: 'Service Provider_Premium'\n",
      "\n",
      "\"I can't get the money out of the country.\"\n",
      "  - Predicted as: 'Service Provider_Premium'\n",
      "\n",
      "\"I have no money to pay my tuition\"\n",
      "  - Predicted as: 'Service Provider_Premium'\n",
      "\n",
      "\"Coinbase closed my account for no reason and furthermore refused to give me a reason despite dozens of request\"\n",
      "  - Predicted as: 'Global Premium Desk'\n",
      "\n",
      "\"We will try again after 10 mins\"\n",
      "  - Predicted as: 'Premium SOC'\n",
      "\n",
      "\"if no problem found\"\n",
      "  - Predicted as: 'Service Provider_Premium'\n",
      "\n",
      "\"The time for ETR has to be extracted from the email\"\n",
      "  - Predicted as: 'Global Premium Desk'\n",
      "\n",
      "\"adhe abba dantlo m vndi ani\"\n",
      "  - Predicted as: 'Service Provider_Premium'\n",
      "\n"
     ]
    }
   ],
   "source": [
    "texts = [\"Dear Customer,Please confirm the current latency and optimal latency to be observed on circuit.\",\n",
    "         \"Dear customer,We are checking our media as per your request, will share our end observation in next 90 minutes.\",\n",
    "         \"Dear Customer,We are observing alarm is showing clean please check and confirm link status.\",\n",
    "        \"I have no money to pay my tuition\",\"I requested a home loan modification through Bank of America. Bank of America never got back to me.\",\n",
    "         \"It has been difficult for me to find my past due balance. I missed a regular monthly payment\",\n",
    "         \"I can't get the money out of the country.\",\n",
    "         \"I have no money to pay my tuition\",\n",
    "         \"Coinbase closed my account for no reason and furthermore refused to give me a reason despite dozens of request\",\n",
    "        \"We will try again after 10 mins\",\n",
    "        \"if no problem found\",\n",
    "        \"The time for ETR has to be extracted from the email\"]\n",
    "text_features = tfidf.transform(texts)\n",
    "predictions = model.predict(text_features)\n",
    "for text, predicted in zip(texts, predictions):\n",
    "  print('\"{}\"'.format(text))\n",
    "  print(\"  - Predicted as: '{}'\".format(id_to_category[predicted]))\n",
    "  print(\"\")"
   ]
  },
  {
   "cell_type": "code",
   "execution_count": 17,
   "id": "64e4a115",
   "metadata": {},
   "outputs": [
    {
     "name": "stdout",
     "output_type": "stream",
     "text": [
      "                               precision    recall  f1-score   support\n",
      "\n",
      "          Global Premium Desk       0.42      0.42      0.42        12\n",
      "                  Premium SOC       0.83      0.71      0.77         7\n",
      "     Service Provider_Premium       0.62      0.75      0.68        20\n",
      "Tx Premium Enterprise Support       1.00      0.25      0.40         4\n",
      "                     BFSI_SOC       0.75      0.75      0.75         4\n",
      "                       EV_SOC       0.50      1.00      0.67         1\n",
      "                 Montreal_SOC       1.00      0.50      0.67         2\n",
      "\n",
      "                     accuracy                           0.62        50\n",
      "                    macro avg       0.73      0.63      0.62        50\n",
      "                 weighted avg       0.66      0.62      0.61        50\n",
      "\n"
     ]
    }
   ],
   "source": [
    "from sklearn import metrics\n",
    "print(metrics.classification_report(y_test, y_pred, \n",
    "                                    target_names=df['Owner Group'].unique()))"
   ]
  },
  {
   "cell_type": "code",
   "execution_count": null,
   "id": "e96f4d32",
   "metadata": {},
   "outputs": [],
   "source": []
  }
 ],
 "metadata": {
  "kernelspec": {
   "display_name": "Python 3",
   "language": "python",
   "name": "python3"
  },
  "language_info": {
   "codemirror_mode": {
    "name": "ipython",
    "version": 3
   },
   "file_extension": ".py",
   "mimetype": "text/x-python",
   "name": "python",
   "nbconvert_exporter": "python",
   "pygments_lexer": "ipython3",
   "version": "3.8.8"
  }
 },
 "nbformat": 4,
 "nbformat_minor": 5
}
